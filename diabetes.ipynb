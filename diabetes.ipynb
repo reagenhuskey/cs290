{
  "nbformat": 4,
  "nbformat_minor": 0,
  "metadata": {
    "colab": {
      "provenance": [],
      "authorship_tag": "ABX9TyON8wvIWGORRWWlTSH0vFt7",
      "include_colab_link": true
    },
    "kernelspec": {
      "name": "python3",
      "display_name": "Python 3"
    },
    "language_info": {
      "name": "python"
    }
  },
  "cells": [
    {
      "cell_type": "markdown",
      "metadata": {
        "id": "view-in-github",
        "colab_type": "text"
      },
      "source": [
        "<a href=\"https://colab.research.google.com/github/reagenhuskey/cs290/blob/main/diabetes.ipynb\" target=\"_parent\"><img src=\"https://colab.research.google.com/assets/colab-badge.svg\" alt=\"Open In Colab\"/></a>"
      ]
    },
    {
      "cell_type": "code",
      "execution_count": 174,
      "metadata": {
        "id": "yIZsEVJdWJN3"
      },
      "outputs": [],
      "source": [
        "import pandas as pd\n",
        "import math"
      ]
    },
    {
      "cell_type": "code",
      "source": [
        "df = pd.read_csv(\"https://github.com/reagenhuskey/cs290/raw/main/Diabetes_prediction.csv\")"
      ],
      "metadata": {
        "id": "2ILQW_DPWqA_"
      },
      "execution_count": 175,
      "outputs": []
    },
    {
      "cell_type": "code",
      "source": [
        "target = \"Diagnosis\"\n",
        "attribute = \"BMI\""
      ],
      "metadata": {
        "id": "Yvic6XQQbTLU"
      },
      "execution_count": 176,
      "outputs": []
    },
    {
      "cell_type": "code",
      "source": [
        "features = df.columns[df.columns != target]\n",
        "features"
      ],
      "metadata": {
        "colab": {
          "base_uri": "https://localhost:8080/"
        },
        "id": "NwLVdpxtYE28",
        "outputId": "dbda274b-a96e-452c-b431-37c3120b8cf4"
      },
      "execution_count": 177,
      "outputs": [
        {
          "output_type": "execute_result",
          "data": {
            "text/plain": [
              "Index(['Pregnancies', 'Glucose', 'BloodPressure', 'SkinThickness', 'Insulin',\n",
              "       'BMI', 'DiabetesPedigreeFunction', 'Age'],\n",
              "      dtype='object')"
            ]
          },
          "metadata": {},
          "execution_count": 177
        }
      ]
    },
    {
      "cell_type": "code",
      "source": [
        "df.nunique()"
      ],
      "metadata": {
        "colab": {
          "base_uri": "https://localhost:8080/",
          "height": 366
        },
        "id": "SHAqPfGRm1s0",
        "outputId": "ae3337f3-bef7-411c-abe2-3ac1abd8370b"
      },
      "execution_count": 178,
      "outputs": [
        {
          "output_type": "execute_result",
          "data": {
            "text/plain": [
              "Pregnancies                    8\n",
              "Glucose                     1000\n",
              "BloodPressure               1000\n",
              "SkinThickness               1000\n",
              "Insulin                     1000\n",
              "BMI                         1000\n",
              "DiabetesPedigreeFunction    1000\n",
              "Age                         1000\n",
              "Diagnosis                      2\n",
              "dtype: int64"
            ],
            "text/html": [
              "<div>\n",
              "<style scoped>\n",
              "    .dataframe tbody tr th:only-of-type {\n",
              "        vertical-align: middle;\n",
              "    }\n",
              "\n",
              "    .dataframe tbody tr th {\n",
              "        vertical-align: top;\n",
              "    }\n",
              "\n",
              "    .dataframe thead th {\n",
              "        text-align: right;\n",
              "    }\n",
              "</style>\n",
              "<table border=\"1\" class=\"dataframe\">\n",
              "  <thead>\n",
              "    <tr style=\"text-align: right;\">\n",
              "      <th></th>\n",
              "      <th>0</th>\n",
              "    </tr>\n",
              "  </thead>\n",
              "  <tbody>\n",
              "    <tr>\n",
              "      <th>Pregnancies</th>\n",
              "      <td>8</td>\n",
              "    </tr>\n",
              "    <tr>\n",
              "      <th>Glucose</th>\n",
              "      <td>1000</td>\n",
              "    </tr>\n",
              "    <tr>\n",
              "      <th>BloodPressure</th>\n",
              "      <td>1000</td>\n",
              "    </tr>\n",
              "    <tr>\n",
              "      <th>SkinThickness</th>\n",
              "      <td>1000</td>\n",
              "    </tr>\n",
              "    <tr>\n",
              "      <th>Insulin</th>\n",
              "      <td>1000</td>\n",
              "    </tr>\n",
              "    <tr>\n",
              "      <th>BMI</th>\n",
              "      <td>1000</td>\n",
              "    </tr>\n",
              "    <tr>\n",
              "      <th>DiabetesPedigreeFunction</th>\n",
              "      <td>1000</td>\n",
              "    </tr>\n",
              "    <tr>\n",
              "      <th>Age</th>\n",
              "      <td>1000</td>\n",
              "    </tr>\n",
              "    <tr>\n",
              "      <th>Diagnosis</th>\n",
              "      <td>2</td>\n",
              "    </tr>\n",
              "  </tbody>\n",
              "</table>\n",
              "</div><br><label><b>dtype:</b> int64</label>"
            ]
          },
          "metadata": {},
          "execution_count": 178
        }
      ]
    },
    {
      "cell_type": "code",
      "source": [
        "vals = df[attribute].unique()\n",
        "vals.sort()\n",
        "vals"
      ],
      "metadata": {
        "colab": {
          "base_uri": "https://localhost:8080/"
        },
        "id": "pUGZUDksYqHu",
        "outputId": "9c6bbaa8-ebd0-4957-c10b-071c905761bc",
        "collapsed": true
      },
      "execution_count": 179,
      "outputs": [
        {
          "output_type": "execute_result",
          "data": {
            "text/plain": [
              "array([13.54881785, 13.88387581, 14.83818512, 15.21643228, 15.32940339,\n",
              "       15.57253886, 15.78651214, 15.96753526, 16.67690277, 16.98661067,\n",
              "       17.07271166, 17.22509838, 17.22617063, 17.34181029, 17.57084647,\n",
              "       17.57636224, 17.6875116 , 17.84820614, 17.93442262, 18.13393838,\n",
              "       18.14375242, 18.17001383, 18.27670411, 18.35319772, 18.45761194,\n",
              "       18.47452611, 18.52948423, 18.64615368, 18.65674683, 18.66476222,\n",
              "       18.72739714, 18.73102741, 18.7898282 , 18.85097819, 18.85370773,\n",
              "       18.86835034, 18.87781521, 18.89865598, 18.91307638, 18.99916883,\n",
              "       19.04656703, 19.09055948, 19.10774656, 19.12570988, 19.13443067,\n",
              "       19.20342762, 19.21645333, 19.25952672, 19.31956617, 19.33467583,\n",
              "       19.36165485, 19.37524296, 19.40194273, 19.41811912, 19.46427985,\n",
              "       19.47936635, 19.47992884, 19.49453677, 19.54523072, 19.5939584 ,\n",
              "       19.61638703, 19.64496482, 19.65131539, 19.65309454, 19.65538687,\n",
              "       19.66368698, 19.69515088, 19.71510333, 19.73296061, 19.73956775,\n",
              "       19.75912481, 19.76437018, 19.82121874, 19.82145485, 19.83734624,\n",
              "       19.85595791, 19.88072273, 19.89901144, 19.90009988, 19.91334117,\n",
              "       19.9137805 , 19.91428348, 19.93493354, 19.98220663, 20.00598518,\n",
              "       20.00818029, 20.02928034, 20.11307113, 20.15572723, 20.15756627,\n",
              "       20.17619382, 20.17808016, 20.2455043 , 20.28851896, 20.35799645,\n",
              "       20.37100577, 20.44003386, 20.46599062, 20.46936005, 20.47315932,\n",
              "       20.49902893, 20.5113461 , 20.57363747, 20.61252619, 20.62562713,\n",
              "       20.62684245, 20.6378519 , 20.66598745, 20.67332749, 20.78652961,\n",
              "       20.79038959, 20.80617478, 20.91549055, 20.91747363, 20.9380814 ,\n",
              "       20.9526043 , 20.97529746, 20.98253405, 20.98861312, 21.03270888,\n",
              "       21.03917183, 21.04749359, 21.05043132, 21.07112832, 21.09421603,\n",
              "       21.0988711 , 21.10159875, 21.10622616, 21.11787595, 21.12790277,\n",
              "       21.12815535, 21.18824147, 21.23659605, 21.29966497, 21.30870517,\n",
              "       21.31952059, 21.35365219, 21.4253658 , 21.45631105, 21.49154962,\n",
              "       21.50878022, 21.51129695, 21.51362372, 21.52637462, 21.54469675,\n",
              "       21.54598969, 21.57244181, 21.57498246, 21.59759812, 21.59858063,\n",
              "       21.61172985, 21.6229853 , 21.63361229, 21.64921752, 21.67515371,\n",
              "       21.67656309, 21.68593478, 21.69067889, 21.71232457, 21.7126978 ,\n",
              "       21.7195389 , 21.74329002, 21.76871904, 21.76962298, 21.79759345,\n",
              "       21.85452421, 21.85731781, 21.85733532, 21.8611973 , 21.87566093,\n",
              "       21.87590311, 21.87855112, 21.88307572, 21.90274388, 21.90833077,\n",
              "       21.92417321, 21.93182799, 21.9405123 , 21.94825016, 22.01458723,\n",
              "       22.01769412, 22.04178002, 22.06381629, 22.07248314, 22.07258042,\n",
              "       22.09255398, 22.10661767, 22.12103526, 22.12755544, 22.1737199 ,\n",
              "       22.19429263, 22.23704485, 22.24881312, 22.26261967, 22.27281173,\n",
              "       22.28204877, 22.29446786, 22.29807035, 22.31034393, 22.33259128,\n",
              "       22.33852549, 22.34591621, 22.34612005, 22.35506903, 22.42278252,\n",
              "       22.43579079, 22.4487027 , 22.46161093, 22.46223209, 22.46600432,\n",
              "       22.49008252, 22.49909301, 22.50194876, 22.53005621, 22.53033394,\n",
              "       22.57578387, 22.57711002, 22.57971362, 22.59343262, 22.60238385,\n",
              "       22.61015573, 22.6271191 , 22.6318529 , 22.63644309, 22.65626505,\n",
              "       22.73305189, 22.74544642, 22.75538753, 22.76241122, 22.76475567,\n",
              "       22.76930541, 22.7751686 , 22.78535125, 22.78850905, 22.81193808,\n",
              "       22.82184513, 22.8374291 , 22.85194293, 22.8566505 , 22.88544703,\n",
              "       22.8859905 , 22.89547986, 22.9110603 , 22.97357314, 22.98244166,\n",
              "       22.99083355, 22.99393052, 22.99761328, 23.00535765, 23.01554239,\n",
              "       23.02510533, 23.02520457, 23.03149245, 23.04280304, 23.057937  ,\n",
              "       23.05883555, 23.07369841, 23.08012479, 23.08781456, 23.08977875,\n",
              "       23.09432742, 23.10096375, 23.1032528 , 23.11091606, 23.13358247,\n",
              "       23.15262024, 23.16066725, 23.17653315, 23.18323277, 23.1942316 ,\n",
              "       23.19865069, 23.22078039, 23.25312387, 23.25349344, 23.26944183,\n",
              "       23.29353402, 23.29353891, 23.29485247, 23.30210833, 23.33596737,\n",
              "       23.35329492, 23.36815949, 23.38108445, 23.39823431, 23.42866876,\n",
              "       23.44121084, 23.45141492, 23.45647647, 23.4636858 , 23.47080225,\n",
              "       23.47131479, 23.48404274, 23.49176139, 23.5184074 , 23.52545706,\n",
              "       23.52720008, 23.55549708, 23.56918672, 23.57605949, 23.6020022 ,\n",
              "       23.60664762, 23.61741956, 23.62786515, 23.66472301, 23.69587899,\n",
              "       23.69842955, 23.7106738 , 23.72881076, 23.75099931, 23.76103065,\n",
              "       23.76240806, 23.77402403, 23.78617869, 23.78832284, 23.79471008,\n",
              "       23.80131255, 23.80139106, 23.80139203, 23.80377595, 23.81340088,\n",
              "       23.81622828, 23.81693414, 23.82923671, 23.83229309, 23.83394499,\n",
              "       23.83656901, 23.84551348, 23.85416406, 23.85519787, 23.87305574,\n",
              "       23.89772995, 23.90806274, 23.91016662, 23.91113323, 23.92164118,\n",
              "       23.92626577, 23.9329698 , 23.94345654, 23.95660973, 23.95694854,\n",
              "       23.95802254, 23.98321311, 23.98358697, 23.98865011, 23.99001587,\n",
              "       23.99320452, 24.01708018, 24.04464227, 24.04905663, 24.04966269,\n",
              "       24.05280667, 24.07698184, 24.07792412, 24.08004427, 24.10164323,\n",
              "       24.10583944, 24.11863153, 24.12607874, 24.1278092 , 24.13599261,\n",
              "       24.13807194, 24.13952183, 24.1436023 , 24.14555885, 24.15142229,\n",
              "       24.15250669, 24.1529045 , 24.16258428, 24.18323325, 24.20134232,\n",
              "       24.20405758, 24.20590228, 24.20930381, 24.21873668, 24.22356901,\n",
              "       24.22694369, 24.2397224 , 24.24237565, 24.26644263, 24.27358045,\n",
              "       24.27627163, 24.28534258, 24.2892176 , 24.30956018, 24.33446725,\n",
              "       24.34253631, 24.35446901, 24.36044367, 24.36497484, 24.36624176,\n",
              "       24.36625641, 24.37931785, 24.38163117, 24.40449491, 24.42352957,\n",
              "       24.42395716, 24.43041896, 24.45298153, 24.45595523, 24.46810678,\n",
              "       24.47116919, 24.48320437, 24.48876133, 24.49279575, 24.50745893,\n",
              "       24.51268832, 24.51904702, 24.52672991, 24.55306739, 24.56682813,\n",
              "       24.5765556 , 24.57910796, 24.59227165, 24.59432821, 24.59664787,\n",
              "       24.60206878, 24.60636018, 24.61127855, 24.63412656, 24.64019315,\n",
              "       24.66405787, 24.67181424, 24.6769508 , 24.68037845, 24.6991498 ,\n",
              "       24.70110098, 24.724919  , 24.72897451, 24.7325419 , 24.73984544,\n",
              "       24.75056025, 24.75484473, 24.76085108, 24.77632537, 24.77886436,\n",
              "       24.79430902, 24.79907872, 24.82202426, 24.82453794, 24.82474473,\n",
              "       24.82997264, 24.88200262, 24.88947661, 24.89026943, 24.92667894,\n",
              "       24.95538841, 24.96941055, 24.97185578, 24.98383701, 24.99938352,\n",
              "       25.01209136, 25.02233121, 25.0332832 , 25.05099975, 25.05172728,\n",
              "       25.05247281, 25.06035599, 25.06650325, 25.07857284, 25.08790566,\n",
              "       25.09266667, 25.09672389, 25.09863266, 25.10333284, 25.11472053,\n",
              "       25.12478613, 25.16564941, 25.16617049, 25.17079232, 25.17793748,\n",
              "       25.17964961, 25.18448692, 25.19934553, 25.23411095, 25.25213367,\n",
              "       25.25315213, 25.25629848, 25.2620516 , 25.26917575, 25.28229473,\n",
              "       25.29181102, 25.29373657, 25.29384038, 25.29504244, 25.29795329,\n",
              "       25.30867017, 25.30973629, 25.32001828, 25.3281641 , 25.3588995 ,\n",
              "       25.36563806, 25.37094339, 25.37957425, 25.38663512, 25.39834718,\n",
              "       25.4290092 , 25.43417895, 25.43619332, 25.44186952, 25.45508957,\n",
              "       25.45620839, 25.46926264, 25.47348311, 25.47520395, 25.49109042,\n",
              "       25.52315691, 25.54125804, 25.54608001, 25.55200175, 25.55807602,\n",
              "       25.57126766, 25.57381866, 25.57569134, 25.58100785, 25.58737938,\n",
              "       25.59169917, 25.59203439, 25.59543573, 25.61426061, 25.61933336,\n",
              "       25.62046851, 25.63829057, 25.63994279, 25.64297241, 25.65803523,\n",
              "       25.66057024, 25.66469023, 25.67047634, 25.68989654, 25.69812028,\n",
              "       25.70234175, 25.70536834, 25.70797926, 25.71043063, 25.72243332,\n",
              "       25.72377456, 25.73129984, 25.74603237, 25.76134551, 25.76154365,\n",
              "       25.77756941, 25.78850643, 25.80311003, 25.80771   , 25.8197029 ,\n",
              "       25.82874418, 25.84524226, 25.8460616 , 25.85231851, 25.87725039,\n",
              "       25.88671368, 25.89285598, 25.89772001, 25.89851401, 25.91764871,\n",
              "       25.92076276, 25.92868422, 25.94827809, 25.96441982, 25.96471702,\n",
              "       25.98352588, 25.98694859, 26.00175898, 26.02592013, 26.03677822,\n",
              "       26.0376844 , 26.04450033, 26.05382438, 26.05744686, 26.0861914 ,\n",
              "       26.09022883, 26.0997955 , 26.10019411, 26.10730353, 26.10815949,\n",
              "       26.11755272, 26.14371847, 26.15563924, 26.16784675, 26.22835502,\n",
              "       26.2308827 , 26.23205942, 26.2400013 , 26.24481044, 26.26389965,\n",
              "       26.28863774, 26.29482949, 26.30166594, 26.30174647, 26.31822638,\n",
              "       26.32801315, 26.33589174, 26.33625761, 26.35118854, 26.35590144,\n",
              "       26.35688639, 26.35893428, 26.39332318, 26.39523156, 26.40388842,\n",
              "       26.41996121, 26.4282002 , 26.43036853, 26.43051035, 26.43252789,\n",
              "       26.4382982 , 26.45594019, 26.46441219, 26.46760091, 26.47464287,\n",
              "       26.48851355, 26.51083055, 26.51553626, 26.53288116, 26.5376983 ,\n",
              "       26.54510084, 26.54768532, 26.55137406, 26.55735731, 26.56011924,\n",
              "       26.59354417, 26.6280012 , 26.63571139, 26.6449389 , 26.64604331,\n",
              "       26.65603675, 26.66758476, 26.67377598, 26.67831701, 26.678904  ,\n",
              "       26.68945947, 26.69297538, 26.70411415, 26.71242496, 26.73202296,\n",
              "       26.74352693, 26.74504539, 26.77196494, 26.78235877, 26.81296359,\n",
              "       26.83792413, 26.84811146, 26.86378893, 26.87020112, 26.88954388,\n",
              "       26.89473697, 26.93705452, 26.9382497 , 26.9401886 , 26.94814808,\n",
              "       26.95732182, 26.96781841, 26.98769011, 26.99416228, 27.00881529,\n",
              "       27.01203043, 27.01521276, 27.02464766, 27.04527091, 27.05060046,\n",
              "       27.06486421, 27.0784263 , 27.07842851, 27.07956473, 27.08559408,\n",
              "       27.11590596, 27.13047969, 27.13376735, 27.15267933, 27.15284236,\n",
              "       27.1681165 , 27.17616556, 27.17920467, 27.19623262, 27.20721712,\n",
              "       27.21010776, 27.22529051, 27.24203797, 27.24534424, 27.26146497,\n",
              "       27.26738355, 27.27920488, 27.28031874, 27.30120664, 27.30655232,\n",
              "       27.31652894, 27.32798918, 27.3416038 , 27.34319479, 27.34488681,\n",
              "       27.34857703, 27.37206207, 27.37665773, 27.38336734, 27.40421655,\n",
              "       27.40715557, 27.41173682, 27.41875969, 27.42311479, 27.45057331,\n",
              "       27.4585537 , 27.46202818, 27.46241426, 27.47808853, 27.49823154,\n",
              "       27.4983149 , 27.51978497, 27.52589442, 27.53530711, 27.54184716,\n",
              "       27.54919876, 27.57325478, 27.58480318, 27.59080602, 27.60271244,\n",
              "       27.61834907, 27.62472543, 27.64546241, 27.65965258, 27.66058684,\n",
              "       27.67809414, 27.68826242, 27.69655701, 27.6971622 , 27.72008002,\n",
              "       27.72401714, 27.73133257, 27.73312139, 27.73319911, 27.73412405,\n",
              "       27.74535285, 27.74946122, 27.76337817, 27.77253164, 27.80243338,\n",
              "       27.80742641, 27.81911958, 27.82142696, 27.83078723, 27.83651603,\n",
              "       27.84255617, 27.8460254 , 27.84743664, 27.90745888, 27.94615988,\n",
              "       27.94678221, 27.9537996 , 27.95486081, 27.96592396, 27.97216728,\n",
              "       27.97223489, 27.97350923, 27.97474828, 27.99408089, 27.99497742,\n",
              "       27.99741582, 28.00989829, 28.01064148, 28.02509092, 28.04027431,\n",
              "       28.06478043, 28.07344145, 28.08627005, 28.08733105, 28.1058355 ,\n",
              "       28.10609047, 28.12553845, 28.12981242, 28.13862396, 28.14334514,\n",
              "       28.1597631 , 28.17125134, 28.17231049, 28.18148453, 28.18714946,\n",
              "       28.20405359, 28.20700207, 28.2237471 , 28.22552254, 28.22902175,\n",
              "       28.24005364, 28.24859672, 28.25545335, 28.26187416, 28.26236275,\n",
              "       28.26672296, 28.31225574, 28.31462366, 28.33219955, 28.37043452,\n",
              "       28.37208095, 28.38848979, 28.40075204, 28.44405547, 28.44995514,\n",
              "       28.4684974 , 28.47405298, 28.4741913 , 28.47860185, 28.50285428,\n",
              "       28.51808051, 28.56003586, 28.56802648, 28.58083746, 28.61147256,\n",
              "       28.64340898, 28.66067159, 28.66964935, 28.70026434, 28.70993797,\n",
              "       28.73361701, 28.75104419, 28.76243286, 28.76489797, 28.77129461,\n",
              "       28.82389193, 28.84254779, 28.84957704, 28.86879696, 28.86959966,\n",
              "       28.87969831, 28.90491329, 28.91109452, 28.92284765, 28.94706481,\n",
              "       28.96996877, 28.98097209, 29.01693698, 29.02993488, 29.04384212,\n",
              "       29.07256633, 29.07774687, 29.08854599, 29.10247985, 29.10411743,\n",
              "       29.10605843, 29.10734415, 29.11256514, 29.12894663, 29.13298237,\n",
              "       29.14053482, 29.14254923, 29.15584636, 29.16744947, 29.17464567,\n",
              "       29.17600421, 29.18304544, 29.20335765, 29.20550953, 29.21328656,\n",
              "       29.22828483, 29.23583979, 29.2711955 , 29.28104606, 29.32279597,\n",
              "       29.3303119 , 29.35314973, 29.35784359, 29.36652597, 29.37104909,\n",
              "       29.3908001 , 29.40584487, 29.41703911, 29.45168837, 29.45408608,\n",
              "       29.48235068, 29.50537986, 29.51483278, 29.53524271, 29.54755407,\n",
              "       29.55350603, 29.58057247, 29.60778033, 29.62545886, 29.62617262,\n",
              "       29.64217178, 29.64294147, 29.64299151, 29.65485112, 29.70709235,\n",
              "       29.74175338, 29.78869309, 29.8019527 , 29.80540625, 29.83536558,\n",
              "       29.85733969, 29.86898512, 29.8755081 , 29.90362976, 29.90551526,\n",
              "       29.91511339, 29.95418018, 29.9792552 , 29.98453771, 30.00207509,\n",
              "       30.09058705, 30.10898462, 30.12557001, 30.16065007, 30.22397339,\n",
              "       30.22452659, 30.24653986, 30.25139308, 30.25274575, 30.28573479,\n",
              "       30.29944873, 30.3235039 , 30.33433844, 30.3362747 , 30.41097449,\n",
              "       30.42546311, 30.4312819 , 30.48636878, 30.62567692, 30.62685101,\n",
              "       30.66056698, 30.66293346, 30.66605729, 30.68457042, 30.6927136 ,\n",
              "       30.70624917, 30.70810506, 30.71769828, 30.74930608, 30.85248045,\n",
              "       30.85475739, 30.93119065, 30.93627815, 31.04511053, 31.0529726 ,\n",
              "       31.09874579, 31.11391288, 31.16194526, 31.16285577, 31.16463931,\n",
              "       31.18227014, 31.20268286, 31.23943286, 31.24481811, 31.2649587 ,\n",
              "       31.28738699, 31.32042073, 31.3524611 , 31.36178224, 31.367961  ,\n",
              "       31.39136998, 31.43793135, 31.48290763, 31.5233746 , 31.52678515,\n",
              "       31.57993808, 31.58519829, 31.64004312, 31.69060542, 31.69238699,\n",
              "       31.69597229, 31.72154547, 31.72563785, 31.75314576, 31.76104632,\n",
              "       31.77099169, 31.81918735, 31.82544283, 31.9584635 , 31.96128818,\n",
              "       31.96961436, 32.03174929, 32.10732516, 32.11717933, 32.12138877,\n",
              "       32.15513852, 32.17358996, 32.18558679, 32.37089267, 32.44403463,\n",
              "       32.4580831 , 32.58051772, 32.59878773, 32.63696031, 32.79020981,\n",
              "       32.92603279, 32.95212823, 32.99747663, 33.06560326, 33.10747824,\n",
              "       33.12590765, 33.15543647, 33.37506134, 33.5350702 , 33.67811659,\n",
              "       33.6979753 , 34.13777289, 34.21091176, 34.45958641, 34.5037579 ,\n",
              "       34.74540795, 34.83634567, 35.40261528, 35.90009164, 36.32459787])"
            ]
          },
          "metadata": {},
          "execution_count": 179
        }
      ]
    },
    {
      "cell_type": "code",
      "source": [
        "props = df[df[attribute] <= vals[400]][target].value_counts(normalize=True)\n",
        "props\n"
      ],
      "metadata": {
        "colab": {
          "base_uri": "https://localhost:8080/",
          "height": 178
        },
        "id": "2A1yQY5tY5gz",
        "outputId": "fc6b39db-1d6d-4363-8857-a3cd770c584a"
      },
      "execution_count": 180,
      "outputs": [
        {
          "output_type": "execute_result",
          "data": {
            "text/plain": [
              "Diagnosis\n",
              "0    0.670823\n",
              "1    0.329177\n",
              "Name: proportion, dtype: float64"
            ],
            "text/html": [
              "<div>\n",
              "<style scoped>\n",
              "    .dataframe tbody tr th:only-of-type {\n",
              "        vertical-align: middle;\n",
              "    }\n",
              "\n",
              "    .dataframe tbody tr th {\n",
              "        vertical-align: top;\n",
              "    }\n",
              "\n",
              "    .dataframe thead th {\n",
              "        text-align: right;\n",
              "    }\n",
              "</style>\n",
              "<table border=\"1\" class=\"dataframe\">\n",
              "  <thead>\n",
              "    <tr style=\"text-align: right;\">\n",
              "      <th></th>\n",
              "      <th>proportion</th>\n",
              "    </tr>\n",
              "    <tr>\n",
              "      <th>Diagnosis</th>\n",
              "      <th></th>\n",
              "    </tr>\n",
              "  </thead>\n",
              "  <tbody>\n",
              "    <tr>\n",
              "      <th>0</th>\n",
              "      <td>0.670823</td>\n",
              "    </tr>\n",
              "    <tr>\n",
              "      <th>1</th>\n",
              "      <td>0.329177</td>\n",
              "    </tr>\n",
              "  </tbody>\n",
              "</table>\n",
              "</div><br><label><b>dtype:</b> float64</label>"
            ]
          },
          "metadata": {},
          "execution_count": 180
        }
      ]
    },
    {
      "cell_type": "code",
      "source": [
        "df[target].unique()"
      ],
      "metadata": {
        "colab": {
          "base_uri": "https://localhost:8080/"
        },
        "id": "WNQskjsfYypB",
        "outputId": "4d288b64-6e77-4877-e209-dd152175854d"
      },
      "execution_count": 181,
      "outputs": [
        {
          "output_type": "execute_result",
          "data": {
            "text/plain": [
              "array([0, 1])"
            ]
          },
          "metadata": {},
          "execution_count": 181
        }
      ]
    },
    {
      "cell_type": "code",
      "source": [
        "entropy = 0\n",
        "for p in props.array:\n",
        "  entropy = entropy - p*math.log2(p)\n",
        "entropy"
      ],
      "metadata": {
        "colab": {
          "base_uri": "https://localhost:8080/"
        },
        "id": "RqFtR-CdZkv2",
        "outputId": "1b75a13e-b3c1-4c22-baec-db5fa0b2bb3a"
      },
      "execution_count": 182,
      "outputs": [
        {
          "output_type": "execute_result",
          "data": {
            "text/plain": [
              "0.9140833658986915"
            ]
          },
          "metadata": {},
          "execution_count": 182
        }
      ]
    },
    {
      "cell_type": "code",
      "source": [
        "entropy = 0\n",
        "for i in range(len(props)):\n",
        "  entropy = entropy - props.iloc[i]*math.log2(props.iloc[i])\n",
        "entropy"
      ],
      "metadata": {
        "colab": {
          "base_uri": "https://localhost:8080/"
        },
        "id": "o_jJBNXTdTJH",
        "outputId": "f05bfb1c-d89b-4f36-cd23-5480d849d913"
      },
      "execution_count": 183,
      "outputs": [
        {
          "output_type": "execute_result",
          "data": {
            "text/plain": [
              "0.9140833658986915"
            ]
          },
          "metadata": {},
          "execution_count": 183
        }
      ]
    },
    {
      "cell_type": "code",
      "source": [
        "entropy = 0\n",
        "overall = len(df)\n",
        "for val in vals:\n",
        "  subset_size = len(df[df[attribute] == val])\n",
        "  weight = subset_size/overall\n",
        "  props = df[df[attribute] <= vals[400]][target].value_counts(normalize=True)\n",
        "  for p in props.array:\n",
        "    entropy = entropy - weight*(p*math.log2(p))\n",
        "\n",
        "entropy"
      ],
      "metadata": {
        "colab": {
          "base_uri": "https://localhost:8080/"
        },
        "id": "efvvm4AyZ5Ef",
        "outputId": "b1984365-bfe9-422a-8c03-2047537339d2"
      },
      "execution_count": 184,
      "outputs": [
        {
          "output_type": "execute_result",
          "data": {
            "text/plain": [
              "0.9140833658986567"
            ]
          },
          "metadata": {},
          "execution_count": 184
        }
      ]
    },
    {
      "cell_type": "markdown",
      "source": [
        "**Binary Tree**"
      ],
      "metadata": {
        "id": "pBpl5Ye68A_r"
      }
    },
    {
      "cell_type": "code",
      "source": [
        "import sklearn.metrics as metrics"
      ],
      "metadata": {
        "id": "5U9aI-UY9CbO"
      },
      "execution_count": 185,
      "outputs": []
    },
    {
      "cell_type": "code",
      "source": [
        "from sklearn.model_selection import train_test_split\n",
        "train_set, test_set = train_test_split(df, test_size=0.2)"
      ],
      "metadata": {
        "id": "m_4iL0TY9Nl4"
      },
      "execution_count": 186,
      "outputs": []
    },
    {
      "cell_type": "code",
      "source": [
        "train_set.columns"
      ],
      "metadata": {
        "colab": {
          "base_uri": "https://localhost:8080/"
        },
        "id": "cFIBSb1W9ULW",
        "outputId": "57265709-3485-4610-acb6-2eccc73d0f34"
      },
      "execution_count": 187,
      "outputs": [
        {
          "output_type": "execute_result",
          "data": {
            "text/plain": [
              "Index(['Pregnancies', 'Glucose', 'BloodPressure', 'SkinThickness', 'Insulin',\n",
              "       'BMI', 'DiabetesPedigreeFunction', 'Age', 'Diagnosis'],\n",
              "      dtype='object')"
            ]
          },
          "metadata": {},
          "execution_count": 187
        }
      ]
    },
    {
      "cell_type": "code",
      "source": [
        "train_set = train_set[[\"BMI\",\"Glucose\",\"BloodPressure\",\"SkinThickness\",\"Age\",\"Pregnancies\", \"Diagnosis\"]]"
      ],
      "metadata": {
        "id": "cWDEyBH59W37"
      },
      "execution_count": 188,
      "outputs": []
    },
    {
      "cell_type": "code",
      "source": [
        "test_set = test_set[[\"BMI\",\"Glucose\",\"BloodPressure\",\"SkinThickness\",\"Age\",\"Pregnancies\", \"Diagnosis\"]]"
      ],
      "metadata": {
        "id": "-kv7wUJ59lWs"
      },
      "execution_count": 189,
      "outputs": []
    },
    {
      "cell_type": "code",
      "source": [
        "X_train = train_set[[\"BMI\",\"Glucose\",\"BloodPressure\",\"SkinThickness\",\"Age\",\"Pregnancies\"]]\n",
        "y_train = train_set[\"Diagnosis\"]"
      ],
      "metadata": {
        "id": "5H6YPlpP9qw6"
      },
      "execution_count": 190,
      "outputs": []
    },
    {
      "cell_type": "code",
      "source": [
        "X_test = test_set[[\"BMI\", \"Glucose\", \"BloodPressure\", \"SkinThickness\", \"Age\", \"Pregnancies\"]]\n",
        "y_test = test_set[\"Diagnosis\"]"
      ],
      "metadata": {
        "id": "QPvlZOkVttXW"
      },
      "execution_count": 191,
      "outputs": []
    },
    {
      "cell_type": "code",
      "source": [
        "from sklearn.tree import DecisionTreeClassifier"
      ],
      "metadata": {
        "id": "QeQub5Fltxdv"
      },
      "execution_count": 192,
      "outputs": []
    },
    {
      "cell_type": "code",
      "source": [
        "from sklearn.pipeline import Pipeline\n",
        "from sklearn.preprocessing import OneHotEncoder, StandardScaler\n",
        "from sklearn.compose import ColumnTransformer\n",
        "from sklearn.model_selection import cross_val_score\n",
        "from sklearn.tree import plot_tree"
      ],
      "metadata": {
        "id": "URlFjYsVuvWU"
      },
      "execution_count": 193,
      "outputs": []
    },
    {
      "cell_type": "code",
      "source": [
        "num_attributes = X_train.select_dtypes( include = ['int64','float64']).columns\n",
        "cat_attributes = X_train.select_dtypes( include = ['object']).columns"
      ],
      "metadata": {
        "id": "6sYZh59Qux1m"
      },
      "execution_count": 194,
      "outputs": []
    },
    {
      "cell_type": "code",
      "source": [
        "trf = [ ('num', StandardScaler(), num_attributes),\n",
        "       ('cat', OneHotEncoder( handle_unknown='ignore'), cat_attributes) ]\n",
        "col_transform = ColumnTransformer( transformers = trf )"
      ],
      "metadata": {
        "id": "Ae5vwzduu2AD"
      },
      "execution_count": 195,
      "outputs": []
    },
    {
      "cell_type": "code",
      "source": [
        "pipeline = Pipeline( steps = [('pre', col_transform),\n",
        " ('clf', DecisionTreeClassifier(max_depth=3))])"
      ],
      "metadata": {
        "id": "PLEcFevbu4df"
      },
      "execution_count": 196,
      "outputs": []
    },
    {
      "cell_type": "code",
      "source": [
        "cross_val_score( pipeline, X_train, y_train, cv=5, scoring='accuracy')"
      ],
      "metadata": {
        "colab": {
          "base_uri": "https://localhost:8080/"
        },
        "id": "f_13GDMPu548",
        "outputId": "010e9080-52b7-419c-e334-21eb3d339543"
      },
      "execution_count": 197,
      "outputs": [
        {
          "output_type": "execute_result",
          "data": {
            "text/plain": [
              "array([0.69375, 0.66875, 0.6875 , 0.65625, 0.70625])"
            ]
          },
          "metadata": {},
          "execution_count": 197
        }
      ]
    },
    {
      "cell_type": "code",
      "source": [
        "model = pipeline.fit( X_train, y_train )\n",
        "model"
      ],
      "metadata": {
        "colab": {
          "base_uri": "https://localhost:8080/",
          "height": 191
        },
        "id": "CaaDaE3Wu8ZO",
        "outputId": "c33fbeea-1ffb-4654-e7a6-f7b5a48e08ab"
      },
      "execution_count": 198,
      "outputs": [
        {
          "output_type": "execute_result",
          "data": {
            "text/plain": [
              "Pipeline(steps=[('pre',\n",
              "                 ColumnTransformer(transformers=[('num', StandardScaler(),\n",
              "                                                  Index(['BMI', 'Glucose', 'BloodPressure', 'SkinThickness', 'Age',\n",
              "       'Pregnancies'],\n",
              "      dtype='object')),\n",
              "                                                 ('cat',\n",
              "                                                  OneHotEncoder(handle_unknown='ignore'),\n",
              "                                                  Index([], dtype='object'))])),\n",
              "                ('clf', DecisionTreeClassifier(max_depth=3))])"
            ],
            "text/html": [
              "<style>#sk-container-id-1 {color: black;}#sk-container-id-1 pre{padding: 0;}#sk-container-id-1 div.sk-toggleable {background-color: white;}#sk-container-id-1 label.sk-toggleable__label {cursor: pointer;display: block;width: 100%;margin-bottom: 0;padding: 0.3em;box-sizing: border-box;text-align: center;}#sk-container-id-1 label.sk-toggleable__label-arrow:before {content: \"▸\";float: left;margin-right: 0.25em;color: #696969;}#sk-container-id-1 label.sk-toggleable__label-arrow:hover:before {color: black;}#sk-container-id-1 div.sk-estimator:hover label.sk-toggleable__label-arrow:before {color: black;}#sk-container-id-1 div.sk-toggleable__content {max-height: 0;max-width: 0;overflow: hidden;text-align: left;background-color: #f0f8ff;}#sk-container-id-1 div.sk-toggleable__content pre {margin: 0.2em;color: black;border-radius: 0.25em;background-color: #f0f8ff;}#sk-container-id-1 input.sk-toggleable__control:checked~div.sk-toggleable__content {max-height: 200px;max-width: 100%;overflow: auto;}#sk-container-id-1 input.sk-toggleable__control:checked~label.sk-toggleable__label-arrow:before {content: \"▾\";}#sk-container-id-1 div.sk-estimator input.sk-toggleable__control:checked~label.sk-toggleable__label {background-color: #d4ebff;}#sk-container-id-1 div.sk-label input.sk-toggleable__control:checked~label.sk-toggleable__label {background-color: #d4ebff;}#sk-container-id-1 input.sk-hidden--visually {border: 0;clip: rect(1px 1px 1px 1px);clip: rect(1px, 1px, 1px, 1px);height: 1px;margin: -1px;overflow: hidden;padding: 0;position: absolute;width: 1px;}#sk-container-id-1 div.sk-estimator {font-family: monospace;background-color: #f0f8ff;border: 1px dotted black;border-radius: 0.25em;box-sizing: border-box;margin-bottom: 0.5em;}#sk-container-id-1 div.sk-estimator:hover {background-color: #d4ebff;}#sk-container-id-1 div.sk-parallel-item::after {content: \"\";width: 100%;border-bottom: 1px solid gray;flex-grow: 1;}#sk-container-id-1 div.sk-label:hover label.sk-toggleable__label {background-color: #d4ebff;}#sk-container-id-1 div.sk-serial::before {content: \"\";position: absolute;border-left: 1px solid gray;box-sizing: border-box;top: 0;bottom: 0;left: 50%;z-index: 0;}#sk-container-id-1 div.sk-serial {display: flex;flex-direction: column;align-items: center;background-color: white;padding-right: 0.2em;padding-left: 0.2em;position: relative;}#sk-container-id-1 div.sk-item {position: relative;z-index: 1;}#sk-container-id-1 div.sk-parallel {display: flex;align-items: stretch;justify-content: center;background-color: white;position: relative;}#sk-container-id-1 div.sk-item::before, #sk-container-id-1 div.sk-parallel-item::before {content: \"\";position: absolute;border-left: 1px solid gray;box-sizing: border-box;top: 0;bottom: 0;left: 50%;z-index: -1;}#sk-container-id-1 div.sk-parallel-item {display: flex;flex-direction: column;z-index: 1;position: relative;background-color: white;}#sk-container-id-1 div.sk-parallel-item:first-child::after {align-self: flex-end;width: 50%;}#sk-container-id-1 div.sk-parallel-item:last-child::after {align-self: flex-start;width: 50%;}#sk-container-id-1 div.sk-parallel-item:only-child::after {width: 0;}#sk-container-id-1 div.sk-dashed-wrapped {border: 1px dashed gray;margin: 0 0.4em 0.5em 0.4em;box-sizing: border-box;padding-bottom: 0.4em;background-color: white;}#sk-container-id-1 div.sk-label label {font-family: monospace;font-weight: bold;display: inline-block;line-height: 1.2em;}#sk-container-id-1 div.sk-label-container {text-align: center;}#sk-container-id-1 div.sk-container {/* jupyter's `normalize.less` sets `[hidden] { display: none; }` but bootstrap.min.css set `[hidden] { display: none !important; }` so we also need the `!important` here to be able to override the default hidden behavior on the sphinx rendered scikit-learn.org. See: https://github.com/scikit-learn/scikit-learn/issues/21755 */display: inline-block !important;position: relative;}#sk-container-id-1 div.sk-text-repr-fallback {display: none;}</style><div id=\"sk-container-id-1\" class=\"sk-top-container\"><div class=\"sk-text-repr-fallback\"><pre>Pipeline(steps=[(&#x27;pre&#x27;,\n",
              "                 ColumnTransformer(transformers=[(&#x27;num&#x27;, StandardScaler(),\n",
              "                                                  Index([&#x27;BMI&#x27;, &#x27;Glucose&#x27;, &#x27;BloodPressure&#x27;, &#x27;SkinThickness&#x27;, &#x27;Age&#x27;,\n",
              "       &#x27;Pregnancies&#x27;],\n",
              "      dtype=&#x27;object&#x27;)),\n",
              "                                                 (&#x27;cat&#x27;,\n",
              "                                                  OneHotEncoder(handle_unknown=&#x27;ignore&#x27;),\n",
              "                                                  Index([], dtype=&#x27;object&#x27;))])),\n",
              "                (&#x27;clf&#x27;, DecisionTreeClassifier(max_depth=3))])</pre><b>In a Jupyter environment, please rerun this cell to show the HTML representation or trust the notebook. <br />On GitHub, the HTML representation is unable to render, please try loading this page with nbviewer.org.</b></div><div class=\"sk-container\" hidden><div class=\"sk-item sk-dashed-wrapped\"><div class=\"sk-label-container\"><div class=\"sk-label sk-toggleable\"><input class=\"sk-toggleable__control sk-hidden--visually\" id=\"sk-estimator-id-1\" type=\"checkbox\" ><label for=\"sk-estimator-id-1\" class=\"sk-toggleable__label sk-toggleable__label-arrow\">Pipeline</label><div class=\"sk-toggleable__content\"><pre>Pipeline(steps=[(&#x27;pre&#x27;,\n",
              "                 ColumnTransformer(transformers=[(&#x27;num&#x27;, StandardScaler(),\n",
              "                                                  Index([&#x27;BMI&#x27;, &#x27;Glucose&#x27;, &#x27;BloodPressure&#x27;, &#x27;SkinThickness&#x27;, &#x27;Age&#x27;,\n",
              "       &#x27;Pregnancies&#x27;],\n",
              "      dtype=&#x27;object&#x27;)),\n",
              "                                                 (&#x27;cat&#x27;,\n",
              "                                                  OneHotEncoder(handle_unknown=&#x27;ignore&#x27;),\n",
              "                                                  Index([], dtype=&#x27;object&#x27;))])),\n",
              "                (&#x27;clf&#x27;, DecisionTreeClassifier(max_depth=3))])</pre></div></div></div><div class=\"sk-serial\"><div class=\"sk-item sk-dashed-wrapped\"><div class=\"sk-label-container\"><div class=\"sk-label sk-toggleable\"><input class=\"sk-toggleable__control sk-hidden--visually\" id=\"sk-estimator-id-2\" type=\"checkbox\" ><label for=\"sk-estimator-id-2\" class=\"sk-toggleable__label sk-toggleable__label-arrow\">pre: ColumnTransformer</label><div class=\"sk-toggleable__content\"><pre>ColumnTransformer(transformers=[(&#x27;num&#x27;, StandardScaler(),\n",
              "                                 Index([&#x27;BMI&#x27;, &#x27;Glucose&#x27;, &#x27;BloodPressure&#x27;, &#x27;SkinThickness&#x27;, &#x27;Age&#x27;,\n",
              "       &#x27;Pregnancies&#x27;],\n",
              "      dtype=&#x27;object&#x27;)),\n",
              "                                (&#x27;cat&#x27;, OneHotEncoder(handle_unknown=&#x27;ignore&#x27;),\n",
              "                                 Index([], dtype=&#x27;object&#x27;))])</pre></div></div></div><div class=\"sk-parallel\"><div class=\"sk-parallel-item\"><div class=\"sk-item\"><div class=\"sk-label-container\"><div class=\"sk-label sk-toggleable\"><input class=\"sk-toggleable__control sk-hidden--visually\" id=\"sk-estimator-id-3\" type=\"checkbox\" ><label for=\"sk-estimator-id-3\" class=\"sk-toggleable__label sk-toggleable__label-arrow\">num</label><div class=\"sk-toggleable__content\"><pre>Index([&#x27;BMI&#x27;, &#x27;Glucose&#x27;, &#x27;BloodPressure&#x27;, &#x27;SkinThickness&#x27;, &#x27;Age&#x27;,\n",
              "       &#x27;Pregnancies&#x27;],\n",
              "      dtype=&#x27;object&#x27;)</pre></div></div></div><div class=\"sk-serial\"><div class=\"sk-item\"><div class=\"sk-estimator sk-toggleable\"><input class=\"sk-toggleable__control sk-hidden--visually\" id=\"sk-estimator-id-4\" type=\"checkbox\" ><label for=\"sk-estimator-id-4\" class=\"sk-toggleable__label sk-toggleable__label-arrow\">StandardScaler</label><div class=\"sk-toggleable__content\"><pre>StandardScaler()</pre></div></div></div></div></div></div><div class=\"sk-parallel-item\"><div class=\"sk-item\"><div class=\"sk-label-container\"><div class=\"sk-label sk-toggleable\"><input class=\"sk-toggleable__control sk-hidden--visually\" id=\"sk-estimator-id-5\" type=\"checkbox\" ><label for=\"sk-estimator-id-5\" class=\"sk-toggleable__label sk-toggleable__label-arrow\">cat</label><div class=\"sk-toggleable__content\"><pre>Index([], dtype=&#x27;object&#x27;)</pre></div></div></div><div class=\"sk-serial\"><div class=\"sk-item\"><div class=\"sk-estimator sk-toggleable\"><input class=\"sk-toggleable__control sk-hidden--visually\" id=\"sk-estimator-id-6\" type=\"checkbox\" ><label for=\"sk-estimator-id-6\" class=\"sk-toggleable__label sk-toggleable__label-arrow\">OneHotEncoder</label><div class=\"sk-toggleable__content\"><pre>OneHotEncoder(handle_unknown=&#x27;ignore&#x27;)</pre></div></div></div></div></div></div></div></div><div class=\"sk-item\"><div class=\"sk-estimator sk-toggleable\"><input class=\"sk-toggleable__control sk-hidden--visually\" id=\"sk-estimator-id-7\" type=\"checkbox\" ><label for=\"sk-estimator-id-7\" class=\"sk-toggleable__label sk-toggleable__label-arrow\">DecisionTreeClassifier</label><div class=\"sk-toggleable__content\"><pre>DecisionTreeClassifier(max_depth=3)</pre></div></div></div></div></div></div></div>"
            ]
          },
          "metadata": {},
          "execution_count": 198
        }
      ]
    },
    {
      "cell_type": "code",
      "source": [
        "predictions = pipeline.predict( X_test )"
      ],
      "metadata": {
        "id": "xlSA9awku-pg"
      },
      "execution_count": 199,
      "outputs": []
    },
    {
      "cell_type": "code",
      "source": [
        "plot_tree( pipeline.named_steps['clf'])"
      ],
      "metadata": {
        "colab": {
          "base_uri": "https://localhost:8080/",
          "height": 666
        },
        "id": "EwXc1qcjvFJ4",
        "outputId": "f38ecd6b-6179-4853-ada6-5dc6c1d4cb22"
      },
      "execution_count": 201,
      "outputs": [
        {
          "output_type": "execute_result",
          "data": {
            "text/plain": [
              "[Text(0.5, 0.875, 'x[3] <= -1.743\\ngini = 0.425\\nsamples = 800\\nvalue = [555, 245]'),\n",
              " Text(0.25, 0.625, 'x[2] <= 1.362\\ngini = 0.219\\nsamples = 40\\nvalue = [35, 5]'),\n",
              " Text(0.125, 0.375, 'x[5] <= 1.967\\ngini = 0.108\\nsamples = 35\\nvalue = [33, 2]'),\n",
              " Text(0.0625, 0.125, 'gini = 0.057\\nsamples = 34\\nvalue = [33, 1]'),\n",
              " Text(0.1875, 0.125, 'gini = 0.0\\nsamples = 1\\nvalue = [0, 1]'),\n",
              " Text(0.375, 0.375, 'x[4] <= 0.13\\ngini = 0.48\\nsamples = 5\\nvalue = [2, 3]'),\n",
              " Text(0.3125, 0.125, 'gini = 0.444\\nsamples = 3\\nvalue = [2, 1]'),\n",
              " Text(0.4375, 0.125, 'gini = 0.0\\nsamples = 2\\nvalue = [0, 2]'),\n",
              " Text(0.75, 0.625, 'x[3] <= -1.344\\ngini = 0.432\\nsamples = 760\\nvalue = [520, 240]'),\n",
              " Text(0.625, 0.375, 'x[4] <= 0.707\\ngini = 0.485\\nsamples = 29\\nvalue = [12, 17]'),\n",
              " Text(0.5625, 0.125, 'gini = 0.475\\nsamples = 18\\nvalue = [11, 7]'),\n",
              " Text(0.6875, 0.125, 'gini = 0.165\\nsamples = 11\\nvalue = [1, 10]'),\n",
              " Text(0.875, 0.375, 'x[4] <= -1.361\\ngini = 0.424\\nsamples = 731\\nvalue = [508, 223]'),\n",
              " Text(0.8125, 0.125, 'gini = 0.489\\nsamples = 66\\nvalue = [38, 28]'),\n",
              " Text(0.9375, 0.125, 'gini = 0.414\\nsamples = 665\\nvalue = [470, 195]')]"
            ]
          },
          "metadata": {},
          "execution_count": 201
        },
        {
          "output_type": "display_data",
          "data": {
            "text/plain": [
              "<Figure size 640x480 with 1 Axes>"
            ],
            "image/png": "[encoded data removed]"
          },
          "metadata": {}
        }
      ]
    }
  ]
}