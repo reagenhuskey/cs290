{
  "nbformat": 4,
  "nbformat_minor": 0,
  "metadata": {
    "colab": {
      "provenance": [],
      "authorship_tag": "ABX9TyP//2ZH7FJCY2lnBPN9KmH6",
      "include_colab_link": true
    },
    "kernelspec": {
      "name": "python3",
      "display_name": "Python 3"
    },
    "language_info": {
      "name": "python"
    }
  },
  "cells": [
    {
      "cell_type": "markdown",
      "metadata": {
        "id": "view-in-github",
        "colab_type": "text"
      },
      "source": [
        "<a href=\"https://colab.research.google.com/github/reagenhuskey/cs290/blob/main/homework3.ipynb\" target=\"_parent\"><img src=\"https://colab.research.google.com/assets/colab-badge.svg\" alt=\"Open In Colab\"/></a>"
      ]
    },
    {
      "cell_type": "code",
      "execution_count": null,
      "metadata": {
        "id": "W6ysFiJMZJmw"
      },
      "outputs": [],
      "source": [
        "import numpy as np\n",
        "import pandas as pd\n",
        "import matplotlib.pyplot as plt\n",
        "import seaborn as sns\n",
        "from sklearn.linear_model import LinearRegression\n",
        "from sklearn.model_selection import train_test_split"
      ]
    },
    {
      "cell_type": "code",
      "source": [
        "penguins = pd.read_csv(\"https://github.com/mbrudd/csci290/raw/refs/heads/main/data/penguins.csv\")"
      ],
      "metadata": {
        "id": "X8nudeJrZNmb"
      },
      "execution_count": null,
      "outputs": []
    },
    {
      "cell_type": "markdown",
      "source": [
        "# **Nearest Neighbors**"
      ],
      "metadata": {
        "id": "P9g2RMgzZZ1B"
      }
    },
    {
      "cell_type": "code",
      "source": [
        "def euclidean_distance(p1, p2):\n",
        "    return np.sqrt(np.sum((p1 - p2) ** 2))\n"
      ],
      "metadata": {
        "id": "K2LEymfGZdEP"
      },
      "execution_count": null,
      "outputs": []
    },
    {
      "cell_type": "code",
      "source": [
        "def k_nearest_neighbors(X_train, y_train, X_test, k=5):\n",
        "    distances = []\n",
        "    for i in range(len(X_train)):\n",
        "        dist = euclidean_distance(X_train[i], X_test)\n",
        "        distances.append((dist, y_train[i]))\n",
        "        sorted_distances = sorted(distances)[:k]\n",
        "\n",
        "    label_counts = {}\n",
        "\n",
        "    for _, label in sorted_distances:\n",
        "      label_counts[label] = label_counts.get(label, 0) + 1\n",
        "\n",
        "    most_common_label = max(label_counts, key=label_counts.get)\n",
        "    return most_common_label\n"
      ],
      "metadata": {
        "id": "luwoP8bebbp2"
      },
      "execution_count": null,
      "outputs": []
    },
    {
      "cell_type": "code",
      "source": [
        "X = penguins[['bill_length_mm', 'bill_depth_mm', 'flipper_length_mm', 'body_mass_g']].values\n",
        "y = penguins['species'].values"
      ],
      "metadata": {
        "id": "TJkcFpmHbdOt"
      },
      "execution_count": null,
      "outputs": []
    },
    {
      "cell_type": "code",
      "source": [
        "X_train, X_test, y_train, y_test = train_test_split(X, y, test_size=0.2, random_state=42)"
      ],
      "metadata": {
        "id": "YY9UcxdNb7jT"
      },
      "execution_count": null,
      "outputs": []
    },
    {
      "cell_type": "code",
      "source": [
        "correct = 0\n",
        "k = 19\n",
        "for i in range(len(X_test)):\n",
        "    prediction = k_nearest_neighbors(X_train, y_train, X_test[i], k=k)\n",
        "    if prediction == y_test[i]:\n",
        "        correct += 1"
      ],
      "metadata": {
        "id": "eX4RlRLLcNjk"
      },
      "execution_count": null,
      "outputs": []
    },
    {
      "cell_type": "code",
      "source": [
        "accuracy = correct / len(X_test)\n",
        "print(f\"Accuracy: {accuracy * 100:.2f}%\")"
      ],
      "metadata": {
        "colab": {
          "base_uri": "https://localhost:8080/"
        },
        "id": "Cnb0qK2cc5xd",
        "outputId": "6f422870-3f0e-4d5b-c848-8f03e65815b6"
      },
      "execution_count": null,
      "outputs": [
        {
          "output_type": "stream",
          "name": "stdout",
          "text": [
            "Accuracy: 71.01%\n"
          ]
        }
      ]
    },
    {
      "cell_type": "markdown",
      "source": [
        "# **Logistic Regression & Support Vector Machine**"
      ],
      "metadata": {
        "id": "yO9RnI613Oly"
      }
    },
    {
      "cell_type": "code",
      "source": [],
      "metadata": {
        "id": "jw066ubD3d6D"
      },
      "execution_count": null,
      "outputs": []
    }
  ]
}