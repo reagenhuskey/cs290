{
  "nbformat": 4,
  "nbformat_minor": 0,
  "metadata": {
    "colab": {
      "provenance": [],
      "toc_visible": true,
      "include_colab_link": true
    },
    "kernelspec": {
      "name": "python3",
      "display_name": "Python 3"
    },
    "language_info": {
      "name": "python"
    }
  },
  "cells": [
    {
      "cell_type": "markdown",
      "metadata": {
        "id": "view-in-github",
        "colab_type": "text"
      },
      "source": [
        "<a href=\"https://colab.research.google.com/github/reagenhuskey/cs290/blob/main/notebooks/partnerProject.ipynb\" target=\"_parent\"><img src=\"https://colab.research.google.com/assets/colab-badge.svg\" alt=\"Open In Colab\"/></a>"
      ]
    },
    {
      "cell_type": "code",
      "execution_count": 7,
      "metadata": {
        "id": "GlTPR22lsVXO"
      },
      "outputs": [],
      "source": [
        "import pandas as pd\n",
        "url = \"https://github.com/michaeledge27/CSCI290/raw/refs/heads/main/data/MBA.csv\"\n",
        "MBAdf = pd.read_csv(url)"
      ]
    },
    {
      "cell_type": "code",
      "source": [
        "colsInUse = ['gpa', 'major', 'gmat']\n",
        "mbadf = MBAdf[colsInUse]\n",
        "mbadf.head()"
      ],
      "metadata": {
        "id": "aNmSjctNqgSj",
        "outputId": "b9df85d8-bbda-4bc7-a120-998fad1fae7a",
        "colab": {
          "base_uri": "https://localhost:8080/",
          "height": 206
        }
      },
      "execution_count": 8,
      "outputs": [
        {
          "output_type": "execute_result",
          "data": {
            "text/plain": [
              "    gpa       major   gmat\n",
              "0  3.30    Business  620.0\n",
              "1  3.28  Humanities  680.0\n",
              "2  3.30    Business  710.0\n",
              "3  3.47        STEM  690.0\n",
              "4  3.35        STEM  590.0"
            ],
            "text/html": [
              "\n",
              "  <div id=\"df-dd0caac1-a2ab-4454-8a97-bd4fa6c4d84d\" class=\"colab-df-container\">\n",
              "    <div>\n",
              "<style scoped>\n",
              "    .dataframe tbody tr th:only-of-type {\n",
              "        vertical-align: middle;\n",
              "    }\n",
              "\n",
              "    .dataframe tbody tr th {\n",
              "        vertical-align: top;\n",
              "    }\n",
              "\n",
              "    .dataframe thead th {\n",
              "        text-align: right;\n",
              "    }\n",
              "</style>\n",
              "<table border=\"1\" class=\"dataframe\">\n",
              "  <thead>\n",
              "    <tr style=\"text-align: right;\">\n",
              "      <th></th>\n",
              "      <th>gpa</th>\n",
              "      <th>major</th>\n",
              "      <th>gmat</th>\n",
              "    </tr>\n",
              "  </thead>\n",
              "  <tbody>\n",
              "    <tr>\n",
              "      <th>0</th>\n",
              "      <td>3.30</td>\n",
              "      <td>Business</td>\n",
              "      <td>620.0</td>\n",
              "    </tr>\n",
              "    <tr>\n",
              "      <th>1</th>\n",
              "      <td>3.28</td>\n",
              "      <td>Humanities</td>\n",
              "      <td>680.0</td>\n",
              "    </tr>\n",
              "    <tr>\n",
              "      <th>2</th>\n",
              "      <td>3.30</td>\n",
              "      <td>Business</td>\n",
              "      <td>710.0</td>\n",
              "    </tr>\n",
              "    <tr>\n",
              "      <th>3</th>\n",
              "      <td>3.47</td>\n",
              "      <td>STEM</td>\n",
              "      <td>690.0</td>\n",
              "    </tr>\n",
              "    <tr>\n",
              "      <th>4</th>\n",
              "      <td>3.35</td>\n",
              "      <td>STEM</td>\n",
              "      <td>590.0</td>\n",
              "    </tr>\n",
              "  </tbody>\n",
              "</table>\n",
              "</div>\n",
              "    <div class=\"colab-df-buttons\">\n",
              "\n",
              "  <div class=\"colab-df-container\">\n",
              "    <button class=\"colab-df-convert\" onclick=\"convertToInteractive('df-dd0caac1-a2ab-4454-8a97-bd4fa6c4d84d')\"\n",
              "            title=\"Convert this dataframe to an interactive table.\"\n",
              "            style=\"display:none;\">\n",
              "\n",
              "  <svg xmlns=\"http://www.w3.org/2000/svg\" height=\"24px\" viewBox=\"0 -960 960 960\">\n",
              "    <path d=\"M120-120v-720h720v720H120Zm60-500h600v-160H180v160Zm220 220h160v-160H400v160Zm0 220h160v-160H400v160ZM180-400h160v-160H180v160Zm440 0h160v-160H620v160ZM180-180h160v-160H180v160Zm440 0h160v-160H620v160Z\"/>\n",
              "  </svg>\n",
              "    </button>\n",
              "\n",
              "  <style>\n",
              "    .colab-df-container {\n",
              "      display:flex;\n",
              "      gap: 12px;\n",
              "    }\n",
              "\n",
              "    .colab-df-convert {\n",
              "      background-color: #E8F0FE;\n",
              "      border: none;\n",
              "      border-radius: 50%;\n",
              "      cursor: pointer;\n",
              "      display: none;\n",
              "      fill: #1967D2;\n",
              "      height: 32px;\n",
              "      padding: 0 0 0 0;\n",
              "      width: 32px;\n",
              "    }\n",
              "\n",
              "    .colab-df-convert:hover {\n",
              "      background-color: #E2EBFA;\n",
              "      box-shadow: 0px 1px 2px rgba(60, 64, 67, 0.3), 0px 1px 3px 1px rgba(60, 64, 67, 0.15);\n",
              "      fill: #174EA6;\n",
              "    }\n",
              "\n",
              "    .colab-df-buttons div {\n",
              "      margin-bottom: 4px;\n",
              "    }\n",
              "\n",
              "    [theme=dark] .colab-df-convert {\n",
              "      background-color: #3B4455;\n",
              "      fill: #D2E3FC;\n",
              "    }\n",
              "\n",
              "    [theme=dark] .colab-df-convert:hover {\n",
              "      background-color: #434B5C;\n",
              "      box-shadow: 0px 1px 3px 1px rgba(0, 0, 0, 0.15);\n",
              "      filter: drop-shadow(0px 1px 2px rgba(0, 0, 0, 0.3));\n",
              "      fill: #FFFFFF;\n",
              "    }\n",
              "  </style>\n",
              "\n",
              "    <script>\n",
              "      const buttonEl =\n",
              "        document.querySelector('#df-dd0caac1-a2ab-4454-8a97-bd4fa6c4d84d button.colab-df-convert');\n",
              "      buttonEl.style.display =\n",
              "        google.colab.kernel.accessAllowed ? 'block' : 'none';\n",
              "\n",
              "      async function convertToInteractive(key) {\n",
              "        const element = document.querySelector('#df-dd0caac1-a2ab-4454-8a97-bd4fa6c4d84d');\n",
              "        const dataTable =\n",
              "          await google.colab.kernel.invokeFunction('convertToInteractive',\n",
              "                                                    [key], {});\n",
              "        if (!dataTable) return;\n",
              "\n",
              "        const docLinkHtml = 'Like what you see? Visit the ' +\n",
              "          '<a target=\"_blank\" href=https://colab.research.google.com/notebooks/data_table.ipynb>data table notebook</a>'\n",
              "          + ' to learn more about interactive tables.';\n",
              "        element.innerHTML = '';\n",
              "        dataTable['output_type'] = 'display_data';\n",
              "        await google.colab.output.renderOutput(dataTable, element);\n",
              "        const docLink = document.createElement('div');\n",
              "        docLink.innerHTML = docLinkHtml;\n",
              "        element.appendChild(docLink);\n",
              "      }\n",
              "    </script>\n",
              "  </div>\n",
              "\n",
              "\n",
              "<div id=\"df-c55d5117-0e3e-4980-b71c-281be91c2bf7\">\n",
              "  <button class=\"colab-df-quickchart\" onclick=\"quickchart('df-c55d5117-0e3e-4980-b71c-281be91c2bf7')\"\n",
              "            title=\"Suggest charts\"\n",
              "            style=\"display:none;\">\n",
              "\n",
              "<svg xmlns=\"http://www.w3.org/2000/svg\" height=\"24px\"viewBox=\"0 0 24 24\"\n",
              "     width=\"24px\">\n",
              "    <g>\n",
              "        <path d=\"M19 3H5c-1.1 0-2 .9-2 2v14c0 1.1.9 2 2 2h14c1.1 0 2-.9 2-2V5c0-1.1-.9-2-2-2zM9 17H7v-7h2v7zm4 0h-2V7h2v10zm4 0h-2v-4h2v4z\"/>\n",
              "    </g>\n",
              "</svg>\n",
              "  </button>\n",
              "\n",
              "<style>\n",
              "  .colab-df-quickchart {\n",
              "      --bg-color: #E8F0FE;\n",
              "      --fill-color: #1967D2;\n",
              "      --hover-bg-color: #E2EBFA;\n",
              "      --hover-fill-color: #174EA6;\n",
              "      --disabled-fill-color: #AAA;\n",
              "      --disabled-bg-color: #DDD;\n",
              "  }\n",
              "\n",
              "  [theme=dark] .colab-df-quickchart {\n",
              "      --bg-color: #3B4455;\n",
              "      --fill-color: #D2E3FC;\n",
              "      --hover-bg-color: #434B5C;\n",
              "      --hover-fill-color: #FFFFFF;\n",
              "      --disabled-bg-color: #3B4455;\n",
              "      --disabled-fill-color: #666;\n",
              "  }\n",
              "\n",
              "  .colab-df-quickchart {\n",
              "    background-color: var(--bg-color);\n",
              "    border: none;\n",
              "    border-radius: 50%;\n",
              "    cursor: pointer;\n",
              "    display: none;\n",
              "    fill: var(--fill-color);\n",
              "    height: 32px;\n",
              "    padding: 0;\n",
              "    width: 32px;\n",
              "  }\n",
              "\n",
              "  .colab-df-quickchart:hover {\n",
              "    background-color: var(--hover-bg-color);\n",
              "    box-shadow: 0 1px 2px rgba(60, 64, 67, 0.3), 0 1px 3px 1px rgba(60, 64, 67, 0.15);\n",
              "    fill: var(--button-hover-fill-color);\n",
              "  }\n",
              "\n",
              "  .colab-df-quickchart-complete:disabled,\n",
              "  .colab-df-quickchart-complete:disabled:hover {\n",
              "    background-color: var(--disabled-bg-color);\n",
              "    fill: var(--disabled-fill-color);\n",
              "    box-shadow: none;\n",
              "  }\n",
              "\n",
              "  .colab-df-spinner {\n",
              "    border: 2px solid var(--fill-color);\n",
              "    border-color: transparent;\n",
              "    border-bottom-color: var(--fill-color);\n",
              "    animation:\n",
              "      spin 1s steps(1) infinite;\n",
              "  }\n",
              "\n",
              "  @keyframes spin {\n",
              "    0% {\n",
              "      border-color: transparent;\n",
              "      border-bottom-color: var(--fill-color);\n",
              "      border-left-color: var(--fill-color);\n",
              "    }\n",
              "    20% {\n",
              "      border-color: transparent;\n",
              "      border-left-color: var(--fill-color);\n",
              "      border-top-color: var(--fill-color);\n",
              "    }\n",
              "    30% {\n",
              "      border-color: transparent;\n",
              "      border-left-color: var(--fill-color);\n",
              "      border-top-color: var(--fill-color);\n",
              "      border-right-color: var(--fill-color);\n",
              "    }\n",
              "    40% {\n",
              "      border-color: transparent;\n",
              "      border-right-color: var(--fill-color);\n",
              "      border-top-color: var(--fill-color);\n",
              "    }\n",
              "    60% {\n",
              "      border-color: transparent;\n",
              "      border-right-color: var(--fill-color);\n",
              "    }\n",
              "    80% {\n",
              "      border-color: transparent;\n",
              "      border-right-color: var(--fill-color);\n",
              "      border-bottom-color: var(--fill-color);\n",
              "    }\n",
              "    90% {\n",
              "      border-color: transparent;\n",
              "      border-bottom-color: var(--fill-color);\n",
              "    }\n",
              "  }\n",
              "</style>\n",
              "\n",
              "  <script>\n",
              "    async function quickchart(key) {\n",
              "      const quickchartButtonEl =\n",
              "        document.querySelector('#' + key + ' button');\n",
              "      quickchartButtonEl.disabled = true;  // To prevent multiple clicks.\n",
              "      quickchartButtonEl.classList.add('colab-df-spinner');\n",
              "      try {\n",
              "        const charts = await google.colab.kernel.invokeFunction(\n",
              "            'suggestCharts', [key], {});\n",
              "      } catch (error) {\n",
              "        console.error('Error during call to suggestCharts:', error);\n",
              "      }\n",
              "      quickchartButtonEl.classList.remove('colab-df-spinner');\n",
              "      quickchartButtonEl.classList.add('colab-df-quickchart-complete');\n",
              "    }\n",
              "    (() => {\n",
              "      let quickchartButtonEl =\n",
              "        document.querySelector('#df-c55d5117-0e3e-4980-b71c-281be91c2bf7 button');\n",
              "      quickchartButtonEl.style.display =\n",
              "        google.colab.kernel.accessAllowed ? 'block' : 'none';\n",
              "    })();\n",
              "  </script>\n",
              "</div>\n",
              "\n",
              "    </div>\n",
              "  </div>\n"
            ],
            "application/vnd.google.colaboratory.intrinsic+json": {
              "type": "dataframe",
              "variable_name": "mbadf",
              "summary": "{\n  \"name\": \"mbadf\",\n  \"rows\": 6194,\n  \"fields\": [\n    {\n      \"column\": \"gpa\",\n      \"properties\": {\n        \"dtype\": \"number\",\n        \"std\": 0.15154111487341657,\n        \"min\": 2.65,\n        \"max\": 3.77,\n        \"num_unique_values\": 101,\n        \"samples\": [\n          2.81,\n          2.97,\n          3.61\n        ],\n        \"semantic_type\": \"\",\n        \"description\": \"\"\n      }\n    },\n    {\n      \"column\": \"major\",\n      \"properties\": {\n        \"dtype\": \"category\",\n        \"num_unique_values\": 3,\n        \"samples\": [\n          \"Business\",\n          \"Humanities\",\n          \"STEM\"\n        ],\n        \"semantic_type\": \"\",\n        \"description\": \"\"\n      }\n    },\n    {\n      \"column\": \"gmat\",\n      \"properties\": {\n        \"dtype\": \"number\",\n        \"std\": 49.294883485510994,\n        \"min\": 570.0,\n        \"max\": 780.0,\n        \"num_unique_values\": 22,\n        \"samples\": [\n          620.0,\n          730.0,\n          640.0\n        ],\n        \"semantic_type\": \"\",\n        \"description\": \"\"\n      }\n    }\n  ]\n}"
            }
          },
          "metadata": {},
          "execution_count": 8
        }
      ]
    },
    {
      "cell_type": "code",
      "source": [
        "colsInUseNotTarget = ['gpa', 'major']"
      ],
      "metadata": {
        "id": "6JcVoUEbqjlC"
      },
      "execution_count": 9,
      "outputs": []
    },
    {
      "cell_type": "markdown",
      "source": [
        "# Attribute Selection Method"
      ],
      "metadata": {
        "id": "CNvW_jBosXtY"
      }
    },
    {
      "cell_type": "code",
      "source": [
        "import numpy as np\n",
        "import math\n"
      ],
      "metadata": {
        "id": "bfj_nvUUsZ24"
      },
      "execution_count": 10,
      "outputs": []
    },
    {
      "cell_type": "code",
      "source": [
        "# Calculate the entropy for a categorical feature\n",
        "def categorical_entropy(df, target, feature):\n",
        "    entropyList = []  # List to store entropy values\n",
        "    uniqueVals = df[feature].unique()  # Get unique values for the feature\n",
        "    overall = len(df)  # Total number of rows\n",
        "    for val in uniqueVals:\n",
        "        entropy = 0  # Initialize entropy for each unique value\n",
        "        subset_size = len(df[df[feature] == val])  # Size of subset for the current value\n",
        "        weight = subset_size / overall  # Weight of the subset\n",
        "        props = df[df[feature] == val][target].value_counts(normalize=True)  # Get the proportion of target values\n",
        "        for p in props:\n",
        "          entropy -= weight * (p * math.log2(p))  # Calculate entropy for the current value\n",
        "          entropyList.append(entropy)  # Append entropy value to the list\n",
        "    return min(entropyList)  # Return the minimum entropy value"
      ],
      "metadata": {
        "id": "QQBI9p6rq8j9"
      },
      "execution_count": 11,
      "outputs": []
    },
    {
      "cell_type": "code",
      "source": [
        "# Calculate the Gini index for a categorical feature\n",
        "def categorical_gini(df, target, feature):\n",
        "    giniList = []  # List to store Gini values\n",
        "    uniqueVals = df[feature].unique()  # Get unique values for the feature\n",
        "    overall = len(df)  # Total number of rows\n",
        "    for val in uniqueVals:\n",
        "        subset_size = len(df[df[feature] == val])  # Size of subset for the current value\n",
        "        weight = subset_size / overall  # Weight of the subset\n",
        "        props = df[df[feature] == val][target].value_counts(normalize=True)  # Get the proportion of target values\n",
        "        gini = 1 - np.sum(np.square(props))  # Calculate Gini for the current value\n",
        "        giniList.append(weight * gini)  # Append weighted Gini value to the list\n",
        "    return min(giniList)  # Return the minimum Gini value"
      ],
      "metadata": {
        "id": "VcFrXMS-rCs0"
      },
      "execution_count": 12,
      "outputs": []
    },
    {
      "cell_type": "code",
      "source": [
        "# Calculate the entropy for a quantitative feature\n",
        "def quantitative_entropy(df, target, feature):\n",
        "    entropyDict = {} # Dict to store entropy values as vals & split points as keys\n",
        "    uniqueVals = np.sort(df[feature].unique())  # Sorted unique values for the feature\n",
        "    overall = len(df)  # Total number of rows\n",
        "    for val in uniqueVals:\n",
        "        entropy = 0  # Initialize entropy for each unique value\n",
        "        # Split the data into two subsets: <= val and > val\n",
        "        left = df[df[feature] <= val][[feature, target]]\n",
        "        right = df[df[feature] > val][[feature, target]]\n",
        "\n",
        "        # Calculate the entropy for the left subset\n",
        "        props_left = left[target].value_counts(normalize=True)\n",
        "        weight_left = len(left) / overall\n",
        "        for prop in props_left:\n",
        "            if prop > 0:\n",
        "                entropy -= weight_left * prop * math.log2(prop)\n",
        "\n",
        "        # Calculate the entropy for the right subset\n",
        "        props_right = right[target].value_counts(normalize=True)\n",
        "        weight_right = len(right) / overall\n",
        "        for prop in props_right:\n",
        "            if prop > 0:\n",
        "                entropy -= weight_right * prop * math.log2(prop)\n",
        "\n",
        "        entropyDict[val] = entropy\n",
        "\n",
        "    best_split = min(entropyDict, key=entropyDict.get) # Find the corresponding split point\n",
        "    min_entropy = entropyDict[best_split]  # Get the minimum entropy value\n",
        "\n",
        "    return min_entropy, best_split\n"
      ],
      "metadata": {
        "id": "YMj_4LAmrbDo"
      },
      "execution_count": 13,
      "outputs": []
    },
    {
      "cell_type": "code",
      "source": [
        "# Calculate the Gini index for a quantitative feature\n",
        "def quantitative_gini(df, target, feature):\n",
        "    giniDict = {}  # Dictionary to store Gini values and split points.\n",
        "    uniqueVals = np.sort(df[feature].unique())  # Sorted unique values for the feature\n",
        "    overall = len(df)  # Total number of rows\n",
        "    for val in uniqueVals:\n",
        "        gini = 0  # Initialize Gini index for each unique value\n",
        "        # Split the data into two subsets: <= val and > val\n",
        "        left = df[df[feature] <= val][[feature, target]]\n",
        "        right = df[df[feature] > val][[feature, target]]\n",
        "\n",
        "        # Calculate the Gini for the left subset\n",
        "        props_left = left[target].value_counts(normalize=True)\n",
        "        weight_left = len(left) / overall\n",
        "        gini_left = 1 - np.sum(np.square(props_left))\n",
        "\n",
        "        # Calculate the Gini for the right subset\n",
        "        props_right = right[target].value_counts(normalize=True)\n",
        "        weight_right = len(right) / overall\n",
        "        gini_right = 1 - np.sum(np.square(props_right))\n",
        "\n",
        "        # Combine Gini values and append to the list\n",
        "        gini = weight_left * gini_left + weight_right * gini_right\n",
        "        giniDict[val] = gini\n",
        "\n",
        "    best_split = min(giniDict, key=giniDict.get) # Find the corresponding split point\n",
        "    min_gini = giniDict[best_split]  # Get the minimum Gini value\n",
        "\n",
        "    return min_gini, best_split"
      ],
      "metadata": {
        "id": "4J0RZ5jTsGZG"
      },
      "execution_count": 14,
      "outputs": []
    },
    {
      "cell_type": "code",
      "source": [
        "# Helper function to check if a feature is categorical\n",
        "def isCategorical(df, feature):\n",
        "    return df[feature].nunique() < 8  # A feature is considered categorical if it has fewer than 8 unique values\n"
      ],
      "metadata": {
        "id": "ktDb7968sJQ_"
      },
      "execution_count": 15,
      "outputs": []
    },
    {
      "cell_type": "code",
      "source": [
        "# Main attribute selection method function\n",
        "def attribute_selection_method(df, target, measure):\n",
        "    categoricalDict = {}  # Store categorical features {feature, result}\n",
        "    quantitativeDict = {} # Store quantitative features {feature, (result, split)}\n",
        "    features = df.columns.drop(target)  # Get all features except the target\n",
        "\n",
        "    for feature in features:\n",
        "        if isCategorical(df, feature):  # If feature is categorical\n",
        "            if measure == 'entropy':\n",
        "                result = categorical_entropy(df, target, feature)\n",
        "            elif measure == 'gini':\n",
        "                result = categorical_gini(df, target, feature)\n",
        "            categoricalDict[feature] = result\n",
        "        else:  # If feature is quantitative\n",
        "            if measure == 'entropy':\n",
        "                min, best_split = quantitative_entropy(df, target, feature)\n",
        "            elif measure == 'gini':\n",
        "                min, best_split = quantitative_gini(df, target, feature)\n",
        "            quantitativeDict[feature] = (min, best_split)\n",
        "\n",
        "    # Determine the best feature and split point\n",
        "    if categoricalDict and min(categoricalDict.values()) <= min(result for result, _ in quantitativeDict.values()):  # Extracts results from\n",
        "        return min(categoricalDict, key=categoricalDict.get)                                         # the tuple and finds the minimum value\n",
        "    else:\n",
        "        best_feature = min(quantitativeDict, key=lambda x: quantitativeDict[x][0]) # Returns the key associated with the smallest result\n",
        "        return best_feature, quantitativeDict[best_feature][1]"
      ],
      "metadata": {
        "id": "8f_5-V-6sL8t"
      },
      "execution_count": 16,
      "outputs": []
    },
    {
      "cell_type": "code",
      "source": [],
      "metadata": {
        "id": "mxitDf_8sRYJ"
      },
      "execution_count": 16,
      "outputs": []
    },
    {
      "cell_type": "markdown",
      "source": [
        "# Mean Squared Error"
      ],
      "metadata": {
        "id": "l36Mu2a5se3R"
      }
    },
    {
      "cell_type": "code",
      "source": [
        "# Mean Squared Error for regression tasks\n",
        "def regression_mse(df, target, feature):\n",
        "    mseList = []\n",
        "    splitPoints = []\n",
        "    uniqueVals = np.sort(df[feature].unique())\n",
        "    overall = len(df)\n",
        "\n",
        "    for val in uniqueVals:\n",
        "        # Split into left and right\n",
        "        left = df[df[feature] <= val][target]\n",
        "        right = df[df[feature] > val][target]\n",
        "\n",
        "        # Calculate MSE for left and right subsets\n",
        "        if len(left) > 0:\n",
        "            mse_left = np.mean((left - left.mean()) ** 2)\n",
        "        else:\n",
        "            mse_left = 0\n",
        "\n",
        "        if len(right) > 0:\n",
        "            mse_right = np.mean((right - right.mean()) ** 2)\n",
        "        else:\n",
        "            mse_right = 0\n",
        "\n",
        "        # Weighted average of the MSEs\n",
        "        weight_left = len(left) / overall\n",
        "        weight_right = len(right) / overall\n",
        "        mse = weight_left * mse_left + weight_right * mse_right\n",
        "\n",
        "        mseList.append(mse)\n",
        "        splitPoints.append(val)\n",
        "\n",
        "    min_mse = np.min(mseList)\n",
        "    best_split = splitPoints[np.argmin(mseList)]\n",
        "    return min_mse, best_split"
      ],
      "metadata": {
        "id": "jTiWZOYkwuq5"
      },
      "execution_count": 17,
      "outputs": []
    },
    {
      "cell_type": "code",
      "source": [
        "regression_mse(mbadf, 'gmat', 'gpa')"
      ],
      "metadata": {
        "id": "b5ZZXFrJqud_",
        "outputId": "3d1a138d-8f0a-4392-dfe4-ab8a3a8d2a0f",
        "colab": {
          "base_uri": "https://localhost:8080/"
        }
      },
      "execution_count": 18,
      "outputs": [
        {
          "output_type": "execute_result",
          "data": {
            "text/plain": [
              "(1882.2081312947516, 3.25)"
            ]
          },
          "metadata": {},
          "execution_count": 18
        }
      ]
    },
    {
      "cell_type": "code",
      "source": [
        "regression_mse(mbadf, 'gmat', 'major')"
      ],
      "metadata": {
        "id": "NR_00YIVqwbe",
        "outputId": "6d002ecd-1505-40f6-fbc4-64efc5ad2f37",
        "colab": {
          "base_uri": "https://localhost:8080/"
        }
      },
      "execution_count": 19,
      "outputs": [
        {
          "output_type": "execute_result",
          "data": {
            "text/plain": [
              "(2429.3693132952044, 'Business')"
            ]
          },
          "metadata": {},
          "execution_count": 19
        }
      ]
    },
    {
      "cell_type": "markdown",
      "source": [
        "# SciKit Learning Stuff"
      ],
      "metadata": {
        "id": "jGL2vX6gqpCu"
      }
    },
    {
      "cell_type": "code",
      "source": [
        "from sklearn.model_selection import train_test_split"
      ],
      "metadata": {
        "id": "jlRvP__FqyfO"
      },
      "execution_count": 20,
      "outputs": []
    },
    {
      "cell_type": "code",
      "source": [
        "target = mbadf['gmat']"
      ],
      "metadata": {
        "id": "L0oyBhA_q1I6"
      },
      "execution_count": 21,
      "outputs": []
    },
    {
      "cell_type": "code",
      "source": [
        "train_set, test_set = train_test_split(mbadf, test_size=0.2)"
      ],
      "metadata": {
        "id": "2T15vJbvq2nd"
      },
      "execution_count": 22,
      "outputs": []
    },
    {
      "cell_type": "code",
      "source": [
        "X_train = train_set[colsInUseNotTarget]\n",
        "y_train = train_set['gmat']\n",
        "X_test = test_set[colsInUseNotTarget]\n",
        "y_test = test_set['gmat']"
      ],
      "metadata": {
        "id": "BoCCgsXLq4Hc"
      },
      "execution_count": 23,
      "outputs": []
    },
    {
      "cell_type": "code",
      "source": [
        "from sklearn.tree import DecisionTreeRegressor\n",
        "from sklearn.preprocessing import StandardScaler, OneHotEncoder\n",
        "from sklearn.pipeline import Pipeline\n",
        "from sklearn.compose import ColumnTransformer\n",
        "from sklearn.model_selection import cross_val_score\n",
        "from sklearn.tree import plot_tree"
      ],
      "metadata": {
        "id": "UdrFnZl-q5ty"
      },
      "execution_count": 24,
      "outputs": []
    },
    {
      "cell_type": "code",
      "source": [
        "num_attributes = X_train.select_dtypes(include = ['float64']).columns\n",
        "cat_attributes = X_train.select_dtypes(include = ['object']).columns"
      ],
      "metadata": {
        "id": "pJ5IAtoCq7nU"
      },
      "execution_count": 25,
      "outputs": []
    },
    {
      "cell_type": "code",
      "source": [
        "trf = [\n",
        "       ('cat', OneHotEncoder( handle_unknown='ignore'), cat_attributes) ]\n",
        "col_transform = ColumnTransformer( transformers = trf )"
      ],
      "metadata": {
        "id": "K58rlS98q9rD"
      },
      "execution_count": 26,
      "outputs": []
    },
    {
      "cell_type": "code",
      "source": [
        "pipeline = Pipeline( steps = [('pre', col_transform),\n",
        " ('clf', DecisionTreeRegressor(max_depth=3))])"
      ],
      "metadata": {
        "id": "em7XjIArrBVU"
      },
      "execution_count": 27,
      "outputs": []
    },
    {
      "cell_type": "code",
      "source": [
        "cv_scores = cross_val_score( pipeline, X_train, y_train, cv=5, scoring='neg_mean_squared_error')\n",
        "cv_scores"
      ],
      "metadata": {
        "id": "BuZFxhlDrDBA",
        "outputId": "215a21aa-ccb0-41ec-c58b-491b1a2f28e6",
        "colab": {
          "base_uri": "https://localhost:8080/"
        }
      },
      "execution_count": 30,
      "outputs": [
        {
          "output_type": "execute_result",
          "data": {
            "text/plain": [
              "array([-2418.30541598, -2365.97587222, -2531.41725572, -2348.69821461,\n",
              "       -2452.65372731])"
            ]
          },
          "metadata": {},
          "execution_count": 30
        }
      ]
    },
    {
      "cell_type": "code",
      "source": [
        "mse_scores = -cv_scores\n",
        "mse_scores"
      ],
      "metadata": {
        "id": "dNEjufWqrEox",
        "outputId": "57fd8e1d-d2fd-44ea-81a5-77d188f7d534",
        "colab": {
          "base_uri": "https://localhost:8080/"
        }
      },
      "execution_count": 29,
      "outputs": [
        {
          "output_type": "execute_result",
          "data": {
            "text/plain": [
              "array([2418.30541598, 2365.97587222, 2531.41725572, 2348.69821461,\n",
              "       2452.65372731])"
            ]
          },
          "metadata": {},
          "execution_count": 29
        }
      ]
    },
    {
      "cell_type": "code",
      "source": [
        "model = DecisionTreeRegressor(max_depth=3)"
      ],
      "metadata": {
        "id": "5HdbSWKorGJL"
      },
      "execution_count": 31,
      "outputs": []
    },
    {
      "cell_type": "code",
      "source": [
        "encoded_test = col_transform.fit_transform(X_test['major'].to_frame())\n",
        "encoded_train = col_transform.fit_transform(X_train['major'].to_frame())"
      ],
      "metadata": {
        "id": "kP_ZYdwCrciE"
      },
      "execution_count": 38,
      "outputs": []
    },
    {
      "cell_type": "code",
      "source": [
        "fittedModel = model.fit(encoded_train, train_set['gmat'])"
      ],
      "metadata": {
        "id": "tMhQPRVEreN4"
      },
      "execution_count": 39,
      "outputs": []
    },
    {
      "cell_type": "code",
      "source": [
        "predictions = fittedModel.predict(encoded_test)\n",
        "print(predictions)"
      ],
      "metadata": {
        "id": "q99zcfV7rgSD",
        "outputId": "8cd279e5-145e-4ce9-ffd8-0d6f8554c3f2",
        "colab": {
          "base_uri": "https://localhost:8080/"
        }
      },
      "execution_count": 42,
      "outputs": [
        {
          "output_type": "stream",
          "name": "stdout",
          "text": [
            "[650.2676733  651.54696133 650.199071   ... 651.54696133 650.199071\n",
            " 650.199071  ]\n"
          ]
        }
      ]
    }
  ]
}