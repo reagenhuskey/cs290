{
  "nbformat": 4,
  "nbformat_minor": 0,
  "metadata": {
    "colab": {
      "provenance": [],
      "authorship_tag": "ABX9TyOvxcJentcHX7Qx5eFLgUMl",
      "include_colab_link": true
    },
    "kernelspec": {
      "name": "python3",
      "display_name": "Python 3"
    },
    "language_info": {
      "name": "python"
    }
  },
  "cells": [
    {
      "cell_type": "markdown",
      "metadata": {
        "id": "view-in-github",
        "colab_type": "text"
      },
      "source": [
        "<a href=\"https://colab.research.google.com/github/reagenhuskey/cs290/blob/main/homework2.ipynb\" target=\"_parent\"><img src=\"https://colab.research.google.com/assets/colab-badge.svg\" alt=\"Open In Colab\"/></a>"
      ]
    },
    {
      "cell_type": "code",
      "execution_count": 2,
      "metadata": {
        "id": "XP1X3POBgCwe"
      },
      "outputs": [],
      "source": [
        "import pandas as pd\n",
        "import numpy as np"
      ]
    },
    {
      "cell_type": "code",
      "source": [
        "X = pd.read_csv(\"https://github.com/reagenhuskey/cs290/raw/main/2022%20US%20College%20Rankings.csv\")"
      ],
      "metadata": {
        "id": "vz-AIpxYHIKj"
      },
      "execution_count": 4,
      "outputs": []
    },
    {
      "cell_type": "code",
      "source": [
        "X.columns"
      ],
      "metadata": {
        "colab": {
          "base_uri": "https://localhost:8080/"
        },
        "id": "C1A30EO1HVWi",
        "outputId": "33f22c9b-eeaa-45da-fc40-7075e443a1b2"
      },
      "execution_count": 20,
      "outputs": [
        {
          "output_type": "execute_result",
          "data": {
            "text/plain": [
              "Index(['College Name', 'Adjusted Rank', 'Tuition', 'Enrollment Numbers'], dtype='object')"
            ]
          },
          "metadata": {},
          "execution_count": 20
        }
      ]
    },
    {
      "cell_type": "code",
      "source": [
        "affordability = []\n",
        "cheap = 15000 #consider these are mostly private/really good schools, so their tuition is way more expensive than the average state school.\n",
        "affordable = 30000\n",
        "expensive = 100000\n"
      ],
      "metadata": {
        "id": "pZjphIKaHtfE"
      },
      "execution_count": 24,
      "outputs": []
    },
    {
      "cell_type": "code",
      "source": [
        "def categorize_t(t):\n",
        "  if t <= cheap:\n",
        "      affordability.append('cheap')\n",
        "      return 'cheap'\n",
        "  elif t <= affordable:\n",
        "      affordability.append('affordable')\n",
        "      return 'affordable'\n",
        "  elif t <= expensive:\n",
        "      affordability.append('expensive')\n",
        "      return 'expensive'\n",
        "\n",
        "y = pd.Series(affordability)\n",
        "X[\"Tuition Category\"] = X[\"Tuition\"].apply(categorize_t)\n"
      ],
      "metadata": {
        "id": "iH67TEEkLbJp"
      },
      "execution_count": 27,
      "outputs": []
    },
    {
      "cell_type": "markdown",
      "source": [
        "**unseen instance**"
      ],
      "metadata": {
        "id": "3KHGCMDgMBL0"
      }
    },
    {
      "cell_type": "code",
      "source": [
        "Sewanee = {\n",
        "    \"College Name\": \"Sewanee\",\n",
        "    \"Adjusted Rank\": 100, #sounds good enough\n",
        "    \"Tuition Category\": \"expensive\"\n",
        "}"
      ],
      "metadata": {
        "id": "NUc_n1fdKPzX"
      },
      "execution_count": 22,
      "outputs": []
    },
    {
      "cell_type": "code",
      "source": [
        "def find_prior(y):\n",
        "  classes = y.unique()\n",
        "  prior = {}\n",
        "  for c in classes:\n",
        "    prior[c] = len(y[y == c]) / len(y)\n",
        "  return prior"
      ],
      "metadata": {
        "id": "JVqjFQirgfZz"
      },
      "execution_count": 30,
      "outputs": []
    },
    {
      "cell_type": "code",
      "source": [
        "def find_likelihood(x, y):\n",
        "  likelihood = {}\n",
        "  for f in X.columns:\n",
        "    likelihood[f] = {}\n",
        "    for c in y.unique():\n",
        "\n"
      ],
      "metadata": {
        "id": "ahsE9QE_Mdza"
      },
      "execution_count": null,
      "outputs": []
    }
  ]
}